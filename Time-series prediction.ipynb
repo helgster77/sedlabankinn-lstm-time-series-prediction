{
 "cells": [
  {
   "cell_type": "markdown",
   "metadata": {},
   "source": [
    "### Time-series prediction með opnum gögnum frá Seðlabanka Íslands \n",
    "útfært í Python, Numpy, Pandas og Keras\n",
    "<br>\n",
    "<br>\n",
    "Byrjum á því að fá öll nauðsynleg dependency inn"
   ]
  },
  {
   "cell_type": "code",
   "execution_count": null,
   "metadata": {},
   "outputs": [],
   "source": [
    "!pip install tabulate\n",
    "\n",
    "\n",
    "from urllib import request\n",
    "import requests\n",
    "import pandas as pd\n",
    "import io\n",
    "from tabulate import tabulate\n",
    "import numpy as np\n",
    "import keras\n",
    "from keras.models import Sequential\n",
    "from keras.layers import Dense\n",
    "from keras.layers import LSTM\n",
    "from keras.layers import Dropout\n",
    "from keras.layers import BatchNormalization\n",
    "from IPython.display import clear_output"
   ]
  },
  {
   "cell_type": "markdown",
   "metadata": {},
   "source": [
    "### Hérna skilgreinum við hvaða gögn við viljum nota og hvað við viljum spá fyrir um\n",
    "Nánari upplýsingar hér: http://www.sedlabanki.is/hagtolur/xml-gogn/"
   ]
  },
  {
   "cell_type": "code",
   "execution_count": null,
   "metadata": {},
   "outputs": [],
   "source": [
    "# Skilgreina hvaða gögn eru sótt. Við gerum greinarmun á aðalgögnum (gildi sem við ætlum að spá fyrir) og aukagögnum.\n",
    "data_series = {\n",
    "    \"isk_dkk\" : 4061,\n",
    "    \"isk_usd\" : 4055,\n",
    "    \"isk_eur\" : 4064,\n",
    "    \"isk_gbp\" : 4103,\n",
    "    \"isk_yen\" : 4085,\n",
    "    \"visitala_neysluverds\" : 1,\n",
    "    \"styrivextir1\" : 23,\n",
    "    \"daglan\" : 24,\n",
    "    \"vidskiptareikn_innl\" : 28,\n",
    "    \"styrivextir2\" : 55,\n",
    "    \"heildarvelta_innl_gjaldeyris_markadur\" : 284,\n",
    "    \"SI_kaup_kr\" : 285,\n",
    "    \"SI_sala_kr\" : 287,\n",
    "    \"visitala_medalgengis\" : 4114,\n",
    "    \"drattarvextir\" : 22\n",
    "}\n",
    "series_to_predict = \"isk_dkk\"\n",
    "series_to_predict_idx = 0"
   ]
  },
  {
   "cell_type": "markdown",
   "metadata": {},
   "source": [
    "### Næstu tvær sellur fara í að sækja og sameina gögnin"
   ]
  },
  {
   "cell_type": "code",
   "execution_count": null,
   "metadata": {},
   "outputs": [],
   "source": [
    "def get_and_append_data(df, series_name, series_id):\n",
    "    csv = requests.get(\"http://www.sedlabanki.is/xmltimeseries/Default.aspx?DagsFra=2000-01-01&DagsTil=2018-03-07T23:59:59&TimeSeriesID=\" + str(series_id) + \"&Type=csv\").content\n",
    "    aux_df = pd.read_csv(io.StringIO(csv.decode('utf-8')), delimiter=';', header=None, names=['0','1','2','3','4','5','time', series_name], parse_dates=['time'])    \n",
    "    aux_df['time'] = pd.to_datetime(aux_df['time']).dt.date\n",
    "    aux_df.set_index(aux_df.time, inplace=True)\n",
    "    aux_df.drop(columns=['0','1','2','3','4','5','time'], inplace=True)\n",
    "    return pd.concat([df, aux_df], axis=1)       "
   ]
  },
  {
   "cell_type": "code",
   "execution_count": null,
   "metadata": {},
   "outputs": [],
   "source": [
    "# Sækja öll viðbótargögn og fylla inn í tóm gildi\n",
    "csv_df = pd.DataFrame()\n",
    "for key, value in data_series.items():\n",
    "    csv_df = get_and_append_data(csv_df, key, value)\n",
    "csv_df.fillna(method='ffill', inplace=True)    \n",
    "csv_df.dropna(inplace=True)\n",
    "csv_df.shape"
   ]
  },
  {
   "cell_type": "markdown",
   "metadata": {},
   "source": [
    "### Skoðum aðeins gögnin sem við ætlum að nota"
   ]
  },
  {
   "cell_type": "code",
   "execution_count": null,
   "metadata": {},
   "outputs": [],
   "source": [
    "# Sýna lægstu gildi\n",
    "csv_df[(csv_df[series_to_predict] == csv_df[series_to_predict].min())]"
   ]
  },
  {
   "cell_type": "code",
   "execution_count": null,
   "metadata": {},
   "outputs": [],
   "source": [
    "# Sýna hæstu gildi\n",
    "csv_df[(csv_df[series_to_predict] == csv_df[series_to_predict].max())]"
   ]
  },
  {
   "cell_type": "code",
   "execution_count": null,
   "metadata": {},
   "outputs": [],
   "source": [
    "# Sýna meðaltal\n",
    "csv_df[series_to_predict].mean()"
   ]
  },
  {
   "cell_type": "code",
   "execution_count": null,
   "metadata": {},
   "outputs": [],
   "source": [
    "# Sýna miðgildi\n",
    "csv_df[series_to_predict].median()"
   ]
  },
  {
   "cell_type": "code",
   "execution_count": null,
   "metadata": {},
   "outputs": [],
   "source": [
    "# Geymum afrit af gögnunum eins og þau eru núna áður en við höldum áfram\n",
    "csv_df_original = csv_df.copy()"
   ]
  },
  {
   "cell_type": "markdown",
   "metadata": {},
   "source": [
    "### Nú þegar gögnin eru tilbúin fyrir vélanám skiptum við þeim í þjálfunargögn (80%) og prófunargögn (20%)"
   ]
  },
  {
   "cell_type": "code",
   "execution_count": null,
   "metadata": {},
   "outputs": [],
   "source": [
    "# Skipta gögnum í þjálfun og prófun\n",
    "num_train = int(len(csv_df) * 0.8)\n",
    "num_test = len(csv_df) - num_train\n",
    "csv_np = csv_df.to_numpy()\n",
    "training_data, testing_data = csv_np[0:num_train, :], csv_np[num_train:len(csv_df),:]\n",
    "all_data = csv_np\n",
    "all_data_dates = csv_df.index.values\n",
    "## Gerum það sama fyrir dagsetningar vegna myndbirtingar\n",
    "dates = all_data_dates\n",
    "training_data_dates, testing_data_dates = dates[0:num_train], dates[num_train:len(dates)]\n",
    "print('Prófunargögn byrja ' + str(testing_data_dates[0]))"
   ]
  },
  {
   "cell_type": "code",
   "execution_count": null,
   "metadata": {},
   "outputs": [],
   "source": [
    "# Normalization\n",
    "norm_means = []\n",
    "for i in range(training_data.shape[1]):\n",
    "    norm_means.append(training_data[:,i].mean())\n",
    "norm_means = np.array(norm_means)\n",
    "norm_stddevs = []\n",
    "for i in range(training_data.shape[1]):\n",
    "    norm_stddevs.append(training_data[:,i].std())\n",
    "norm_stddevs = np.array(norm_stddevs)\n",
    "\n",
    "for i in range(training_data.shape[0]):\n",
    "    training_data[i] = (training_data[i] - norm_means) / norm_stddevs\n",
    "\n",
    "for i in range(testing_data.shape[0]):\n",
    "    testing_data[i] = (testing_data[i] - norm_means) / norm_stddevs"
   ]
  },
  {
   "cell_type": "code",
   "execution_count": null,
   "metadata": {},
   "outputs": [],
   "source": [
    "# Visualization\n",
    "\n",
    "import matplotlib.pyplot as plt\n",
    "%matplotlib inline\n",
    "\n",
    "plt.figure()\n",
    "plt.title('Hrágögn')\n",
    "plt.xticks(rotation='vertical')\n",
    "plt.plot(csv_df_original.index, csv_df_original[series_to_predict])\n",
    "\n",
    "plt.figure()\n",
    "plt.title('Normalized')\n",
    "plt.xticks(rotation='vertical')\n",
    "plt.plot(np.append(training_data[:, 0], testing_data[:, 0]))"
   ]
  },
  {
   "cell_type": "markdown",
   "metadata": {},
   "source": [
    "### Þetta gæti verið góður tími til að nefna að við ættum kannski að skoða þessi ESB mál aðeins betur..."
   ]
  },
  {
   "cell_type": "code",
   "execution_count": null,
   "metadata": {},
   "outputs": [],
   "source": [
    "print(\"Hlutfallslegur munur á lægsta og hæsta gildi í prósentum: \" + str(abs(csv_df_original[series_to_predict].max() / csv_df_original[series_to_predict].min() * 100)))"
   ]
  },
  {
   "cell_type": "code",
   "execution_count": null,
   "metadata": {},
   "outputs": [],
   "source": [
    "# Hérna sjáum við hvernig gögnin skiptast í þjálfunargögn og prófunargögn\n",
    "plt.figure()\n",
    "plt.title('Train vs test')\n",
    "plt.plot(training_data_dates, training_data[:, series_to_predict_idx], label='Train')\n",
    "plt.plot(testing_data_dates, testing_data[:, series_to_predict_idx], label='Test')\n",
    "plt.legend()"
   ]
  },
  {
   "cell_type": "markdown",
   "metadata": {},
   "source": [
    "### Við ætlum að búa til lítið LSTM spálíkan með Keras.\n",
    "Til þess þurfum við að huga að nokkrum stillingum:\n",
    "<br>\n",
    "<br>\n",
    "<b>output_lookaheads</b> - Hversu langt fram í tímann (mælt í virkum dögum) gilda spárnar sem við munum búa til. Ef við setjum mörg gildi þarna inn mun netið skapa jafnmargar spár í hverju skrefi. Til dæmis ef output_lookaheads = [3, 7] þá mun hvert spákref skila bæði spáum sem gilda 3 og 7 virka daga fram í tímann.\n",
    "<br>\n",
    "<br>\n",
    "<b>seq_length</b> - Hvað byggir hvert spáskref á mörgum fyrri tímaskrefum (virkum dögum).\n",
    "<br>\n",
    "<br>\n",
    "<b>hidden_layers</b> - Hversu mörg og hversu stór lög af LSTM taugungum ætlum við að nota\n",
    "\n",
    "\n"
   ]
  },
  {
   "cell_type": "code",
   "execution_count": null,
   "metadata": {},
   "outputs": [],
   "source": [
    "# Stillingar\n",
    "output_lookaheads = [14]\n",
    "seq_length = 10\n",
    "hidden_layers = [16, 16]"
   ]
  },
  {
   "cell_type": "markdown",
   "metadata": {},
   "source": [
    "### Forvinnsla á gögnum í næstu tveimur sellum"
   ]
  },
  {
   "cell_type": "code",
   "execution_count": null,
   "metadata": {},
   "outputs": [],
   "source": [
    "# Útbúa gögn\n",
    "def make_data_and_labels(data, lookaheads):\n",
    "    i, j = 0, seq_length\n",
    "    inputs, outputs = [], []\n",
    "    maxlookahead = lookaheads[-1]\n",
    "    while j + maxlookahead < len(data):\n",
    "        input_data = data[i:j, :]\n",
    "        output_data = []\n",
    "        for lh in lookaheads:\n",
    "            output_data.append(data[j+lh, series_to_predict_idx])\n",
    "        inputs.append(input_data)\n",
    "        outputs.append(output_data)\n",
    "        i += 1\n",
    "        j += 1        \n",
    "    return np.array(inputs), np.array(outputs)"
   ]
  },
  {
   "cell_type": "code",
   "execution_count": null,
   "metadata": {},
   "outputs": [],
   "source": [
    "inputs_train, outputs_train = make_data_and_labels(training_data, output_lookaheads)\n",
    "inputs_train = np.transpose(inputs_train, (0,2,1))\n",
    "\n",
    "inputs_test, outputs_test = make_data_and_labels(testing_data, output_lookaheads)\n",
    "inputs_test = np.transpose(inputs_test, (0,2,1))\n",
    "\n",
    "inputs_all, outputs_all = make_data_and_labels(all_data, output_lookaheads)\n",
    "inputs_all = np.transpose(inputs_all, (0,2,1))"
   ]
  },
  {
   "cell_type": "code",
   "execution_count": null,
   "metadata": {},
   "outputs": [],
   "source": [
    "# Kóði sem hjálpar okkur að sjá myndrænt hvernig þjálfunin gengur\n",
    "# Fengið héðan: https://gist.github.com/stared/dfb4dfaf6d9a8501cd1cc8b8cb806d2e\n",
    "class PlotLosses(keras.callbacks.Callback):\n",
    "    \n",
    "    def __init__(self):\n",
    "        self.cnt = 0\n",
    "    \n",
    "    def on_train_begin(self, logs={}):\n",
    "        self.i = 0\n",
    "        self.x = []\n",
    "        self.losses = []\n",
    "        self.val_losses = []\n",
    "        \n",
    "        self.fig = plt.figure()\n",
    "        \n",
    "        self.logs = []\n",
    "\n",
    "    def on_epoch_end(self, epoch, logs={}):\n",
    "        if self.cnt % 10 == 0:\n",
    "            self.logs.append(logs)\n",
    "            self.x.append(self.i)\n",
    "            self.losses.append(logs.get('loss'))\n",
    "            self.val_losses.append(logs.get('val_loss'))\n",
    "            self.i += 1\n",
    "\n",
    "            clear_output(wait=True)\n",
    "            plt.plot(self.x, self.losses, label=\"loss\")\n",
    "            plt.plot(self.x, self.val_losses, label=\"val_loss\")\n",
    "            plt.legend()\n",
    "            plt.show()\n",
    "        self.cnt += 1\n",
    "        \n",
    "plot_losses = PlotLosses()"
   ]
  },
  {
   "cell_type": "markdown",
   "metadata": {},
   "source": [
    "### Nú fer þjálfunin af stað. Það gæti mögulega þurft að aðlaga batch_size eða þolinmæði að ykkar aðstæðum ef þið viljið keyra kóðann sjálf. Þjálfunin tekur minna en tvær mínútur á GTX 1080."
   ]
  },
  {
   "cell_type": "code",
   "execution_count": null,
   "metadata": {},
   "outputs": [],
   "source": [
    "# Búa til og þjálfa LSTM net með Keras\n",
    "model = Sequential()\n",
    "for i in range(len(hidden_layers)):    \n",
    "    if i == 0:\n",
    "        model.add(LSTM(hidden_layers[i], input_shape=(len(data_series),seq_length), return_sequences=(not i == len(hidden_layers)-1)))\n",
    "    else:\n",
    "        model.add(LSTM(hidden_layers[i], return_sequences=(not i == len(hidden_layers)-1)))            \n",
    "    model.add(Dropout(0.5))\n",
    "    model.add(BatchNormalization())    \n",
    "    \n",
    "model.add(Dense(len(output_lookaheads), activation='linear'))\n",
    "model.compile(loss='mean_squared_error', optimizer='adam', metrics=['accuracy'])\n",
    "print(model.summary())\n",
    "model.fit(inputs_train, outputs_train, epochs=1000, batch_size=2048, validation_data=(inputs_test, outputs_test), \n",
    "          callbacks=[plot_losses])\n"
   ]
  },
  {
   "cell_type": "markdown",
   "metadata": {},
   "source": [
    "### Könnum hvernig þetta gekk"
   ]
  },
  {
   "cell_type": "code",
   "execution_count": null,
   "metadata": {},
   "outputs": [],
   "source": [
    "def unpack_outputs(outputs):\n",
    "    result = []\n",
    "    for l in range(len(output_lookaheads)):\n",
    "        result.append(outputs[:,l])\n",
    "    return np.array(result)"
   ]
  },
  {
   "cell_type": "code",
   "execution_count": null,
   "metadata": {},
   "outputs": [],
   "source": [
    "predictions_all = model.predict(inputs_all, batch_size=None, verbose=0, steps=None)\n",
    "predictions_all = unpack_outputs(predictions_all)\n",
    "plt.figure(figsize=(30, 15))\n",
    "plt.title('Train vs test')\n",
    "plt.plot(all_data_dates, all_data[:,0], label='Ground truth')\n",
    "plt.plot(all_data_dates[seq_length+max(output_lookaheads):], predictions_all[0], label='Train+D14')\n",
    "plt.legend()"
   ]
  },
  {
   "cell_type": "markdown",
   "metadata": {},
   "source": [
    "#### Takið eftir að hvert spágildi er teiknað inn á þann dag sem spáin á við, en spágildið er framleitt 14 virkum dögum fyrr \n",
    "(eða eftir því sem output_lookaheads er stillt)\n",
    "<br>"
   ]
  },
  {
   "cell_type": "markdown",
   "metadata": {},
   "source": [
    "© Helgi Páll Helgason 2018\n",
    "<br>\n",
    "Kóðinn er ætlaður til fræðslu, engin ábyrgð er tekin á notkun hans.\n",
    "<br>\n",
    "Öll gögn notuð hér eru sótt beint frá Seðlabanka Íslands á keyrslutíma.\n"
   ]
  }
 ],
 "metadata": {
  "kernelspec": {
   "display_name": "Python 3 (ipykernel)",
   "language": "python",
   "name": "python3"
  },
  "language_info": {
   "codemirror_mode": {
    "name": "ipython",
    "version": 3
   },
   "file_extension": ".py",
   "mimetype": "text/x-python",
   "name": "python",
   "nbconvert_exporter": "python",
   "pygments_lexer": "ipython3",
   "version": "3.10.12"
  }
 },
 "nbformat": 4,
 "nbformat_minor": 2
}
